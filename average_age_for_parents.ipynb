{
 "cells": [
  {
   "cell_type": "markdown",
   "metadata": {},
   "source": [
    "# Average Age for Parents"
   ]
  },
  {
   "cell_type": "code",
   "execution_count": 71,
   "metadata": {},
   "outputs": [
    {
     "name": "stdout",
     "output_type": "stream",
     "text": [
      "The average age for someone who has at least one child is 39.78\n"
     ]
    }
   ],
   "source": [
    "import csv\n",
    "with open(\"insurance.csv\") as insur_csv:\n",
    "    insur_reader = csv.DictReader(insur_csv, delimiter=\",\")\n",
    "    parents = []\n",
    "    for person in insur_reader :\n",
    "        if int(person['children']) >= 1:\n",
    "            parents.append(person)\n",
    "    parents_age = [person['age'] for person in parents]   \n",
    "    for i in range(0, len(parents_age)): \n",
    "        parents_age[i] = int(parents_age[i]) \n",
    "    average_age = sum(parents_age) / len(parents_age)\n",
    "    formatted_average_age = \"{:.2f}\".format(average_age)\n",
    "    print(\"The average age for someone who has at least one child is \" + str(formatted_average_age))\n",
    "    "
   ]
  }
 ],
 "metadata": {
  "kernelspec": {
   "display_name": "Python 3",
   "language": "python",
   "name": "python3"
  },
  "language_info": {
   "codemirror_mode": {
    "name": "ipython",
    "version": 3
   },
   "file_extension": ".py",
   "mimetype": "text/x-python",
   "name": "python",
   "nbconvert_exporter": "python",
   "pygments_lexer": "ipython3",
   "version": "3.9.1"
  }
 },
 "nbformat": 4,
 "nbformat_minor": 4
}
