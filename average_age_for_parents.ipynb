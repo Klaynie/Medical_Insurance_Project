{
 "cells": [
  {
   "cell_type": "markdown",
   "metadata": {},
   "source": [
    "# Average Age for Parents"
   ]
  },
  {
   "cell_type": "code",
   "execution_count": 1,
   "metadata": {},
   "outputs": [
    {
     "output_type": "stream",
     "name": "stdout",
     "text": [
      "The average age for someone who has at least one child is 39.78\n"
     ]
    }
   ],
   "source": [
    "import csv\n",
    "with open(\"insurance.csv\") as insur_csv:\n",
    "    insur_reader = csv.DictReader(insur_csv, delimiter=\",\")\n",
    "    counter = 0\n",
    "    total_age = 0\n",
    "    for person in insur_reader:\n",
    "        if int(person['children']) >= 1:\n",
    "            total_age += int(person['age'])\n",
    "            counter += 1\n",
    "average_age = total_age / counter\n",
    "print(f\"The average age for someone who has at least one child is {average_age:.2f}\")"
   ]
  }
 ],
 "metadata": {
  "kernelspec": {
   "display_name": "Python 3",
   "language": "python",
   "name": "python3"
  },
  "language_info": {
   "codemirror_mode": {
    "name": "ipython",
    "version": 3
   },
   "file_extension": ".py",
   "mimetype": "text/x-python",
   "name": "python",
   "nbconvert_exporter": "python",
   "pygments_lexer": "ipython3",
   "version": "3.7.6-final"
  }
 },
 "nbformat": 4,
 "nbformat_minor": 4
}