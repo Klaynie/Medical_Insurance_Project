{
 "cells": [
  {
   "cell_type": "markdown",
   "metadata": {},
   "source": [
    "# U.S. Medical Insurance Costs\n",
    "\n",
    "Here, as a start, is a low-fi version with csv as the only library used. \n",
    "1. Working in parallel to show how the go-to data modules (pandas, numpy, matplotlib, seaborn and what else is there?) can not only save us time and the need to write plenty of code, but also expand our possibilities by showing the same things in greater depth or beautifully visualized, seems like a fair and desirable goal.\n",
    "2. Though the recommendations Codecademy is giving for this project seem like an interesting challenge in terms of learning Python, one could wonder if there might be more original questions to be answered?\n",
    "(see Kanban board: Scoping Your Project). "
   ]
  },
  {
   "cell_type": "code",
   "execution_count": 1,
   "metadata": {},
   "outputs": [],
   "source": [
    "# first things first\n",
    "import csv"
   ]
  },
  {
   "source": [
    "Following the solution that is enclosed in this repository, here is a function that creates a list from a given attribute, \n",
    "pretty much as in the solution, but using list comprehensions instead of empty lists, for-loops and the append function."
   ],
   "cell_type": "markdown",
   "metadata": {}
  },
  {
   "cell_type": "code",
   "execution_count": 2,
   "metadata": {},
   "outputs": [],
   "source": [
    "def create_list(attribute):\n",
    "    \"\"\"from having read the file, we know there are seven specific rows:\n",
    "    age, sex, bmi, children, smoker, region, charges\n",
    "    we can use any of these as an argument (input: string)\n",
    "    \"\"\"\n",
    "    with open(\"insurance.csv\") as insur_csv:\n",
    "        \"we import our dataset as a variable (dictionary with attributes as keys)\"\n",
    "        insur_data = csv.DictReader(insur_csv)\n",
    "        \"and get a list of the attribute we chose\"\n",
    "        return [i[attribute] for i in insur_data]"
   ]
  },
  {
   "cell_type": "code",
   "execution_count": 3,
   "metadata": {},
   "outputs": [],
   "source": [
    "# uncomment the print statement and add an attribute in between the quotes to try:\n",
    "# print(create_list_on_attribute(\" \"))"
   ]
  },
  {
   "cell_type": "markdown",
   "metadata": {},
   "source": [
    "The next super sweet thing that can be seen in the solution is a class for patient info.\n",
    "I don't know about you guys, but I'm still keen on getting a better grip on Class(es)! But I want to try this without having to create all those lists beforehand."
   ]
  },
  {
   "cell_type": "code",
   "execution_count": 4,
   "metadata": {},
   "outputs": [],
   "source": [
    "class PatientsInfo:\n",
    "    \"here I'll build the class, starting with the init method\"\n",
    "    def __init__(self):\n",
    "        \"why would we use the attributes as arguments here, as we'll end up with only of instance of this class anyway?\"\n",
    "        self.age = create_list(\"age\")\n",
    "        self.sex = create_list(\"sex\")\n",
    "        self.bmi = create_list(\"bmi\")\n",
    "        self.children = create_list(\"children\")\n",
    "        self.smoker = create_list(\"smoker\")\n",
    "        self.region = create_list(\"region\")\n",
    "        self.charges = create_list(\"charges\")\n",
    "        \n",
    "    def list_of_dict(self):\n",
    "        return [{\"Age\": int(age), \"Sex\": sex, \"BMI\": float(bmi), \"Children\": int(children), \"Smoker\": smoker, \"Region\": region, \"Charges\": float(charges)} for age, sex, bmi, children, smoker, region, charges in zip(self.age, self.sex, self.bmi, self.children, self.smoker, self.region, self.charges)]\n",
    "    \n",
    "    def average_age_of_parents(self):\n",
    "        counter = 0\n",
    "        total_age = 0\n",
    "        for person in self.list_of_dict():\n",
    "            if person[\"Children\"] >= 1:\n",
    "                total_age += person[\"Age\"]\n",
    "                counter += 1\n",
    "        return total_age / counter\n",
    "        # \"\"\"\"alternate version\"\"\"\n",
    "        # ages_and_children = [(age, child) for age, child in zip(self.age, self.children) if child != \"0\"]\n",
    "        # return sum(int(i[0]) for i in ages_and_children) / len(ages_and_children)\n",
    "    \n",
    "    def most_common_regions(self):\n",
    "        \"\"\"Ok, to add something of my own, I would like to know what regions exist and how often we encounter them\"\"\"\n",
    "        regions_as_dict = {}\n",
    "        for i in self.region:\n",
    "            if i not in regions_as_dict:\n",
    "                regions_as_dict[i] = 1\n",
    "            else:\n",
    "                regions_as_dict[i] += 1\n",
    "        return regions_as_dict\n",
    "\n",
    "    def average(self, attribute):\n",
    "        if attribute == \"age\": # discrete\n",
    "            return self.calculate_average(\"age\")\n",
    "        if attribute == \"sex\": # nominal\n",
    "            sex_binary = self.convert_to_binary(\"sex\", [\"female\", \"male\"])\n",
    "            return sum(sex_binary) / len(sex_binary)\n",
    "        if attribute == \"bmi\": # continuous \n",
    "            return self.calculate_average(\"bmi\")\n",
    "        if attribute == \"children\": # discrete\n",
    "            return self.calculate_average(\"children\")\n",
    "        if attribute == \"smoker\": # nominal\n",
    "            smoker_binary = self.convert_to_binary(\"sex\", [\"no\", \"yes\"])\n",
    "            return sum(smoker_binary) / len(smoker_binary)\n",
    "        if attribute == \"region\": # nominal\n",
    "            pass\n",
    "        if attribute == \"charges\": # continuous\n",
    "            return self.calculate_average(\"charges\")\n",
    "\n",
    "    def convert_to_binary(self, attr, input_value_list):\n",
    "        output_value_list = [\"0\", \"1\"]\n",
    "        return [int(i.replace(input_value_list[0], output_value_list[0]).replace(input_value_list[1], output_value_list[1])) for i in getattr(self, attr)]\n",
    "\n",
    "    def calculate_average(self, attr):\n",
    "        temp_list = getattr(self, attr)\n",
    "        return sum(float(i) for i in temp_list) / len(temp_list)"
   ]
  },
  {
   "source": [
    "What could a function look like, that calculates an average out of any given attribute?"
   ],
   "cell_type": "markdown",
   "metadata": {}
  },
  {
   "cell_type": "code",
   "execution_count": 5,
   "metadata": {},
   "outputs": [
    {
     "output_type": "stream",
     "name": "stdout",
     "text": [
      "{'Age': 19, 'Sex': 'female', 'BMI': 27.9, 'Children': 0, 'Smoker': 'yes', 'Region': 'southwest', 'Charges': 16884.924}\n",
      "<class 'float'>\n"
     ]
    }
   ],
   "source": [
    "print(PatientsInfo().list_of_dict()[0])\n",
    "print(type(PatientsInfo().average_age_of_parents()))"
   ]
  },
  {
   "cell_type": "markdown",
   "metadata": {},
   "source": [
    "Let's actually try the ages:"
   ]
  },
  {
   "cell_type": "code",
   "execution_count": 6,
   "metadata": {},
   "outputs": [
    {
     "output_type": "stream",
     "name": "stdout",
     "text": [
      "Average age of all patients: 39.20702541106129\nAverage age of all parents: 39.78010471204188\nAge difference is: 0.573079300980595\n"
     ]
    }
   ],
   "source": [
    "p = PatientsInfo()\n",
    "# the average age of the patients was 39.21 years in the codecademy solution\n",
    "print(\"Average age of all patients:\", p.average(\"age\"))\n",
    "# the average age of the parents was 39.78 years in Murad's solution\n",
    "print(\"Average age of all parents:\", p.average_age_of_parents())\n",
    "print(\"Age difference is:\", abs(p.average(\"age\") - p.average_age_of_parents()))"
   ]
  },
  {
   "cell_type": "markdown",
   "metadata": {},
   "source": [
    "Let's try the regions as well:"
   ]
  },
  {
   "cell_type": "code",
   "execution_count": 7,
   "metadata": {},
   "outputs": [
    {
     "output_type": "stream",
     "name": "stdout",
     "text": [
      "{'southwest': 325, 'southeast': 364, 'northwest': 325, 'northeast': 324}\n"
     ]
    }
   ],
   "source": [
    "print(p.most_common_regions())"
   ]
  },
  {
   "cell_type": "markdown",
   "metadata": {},
   "source": [
    "Now this seems surprisingly balanced to me! Though without any understanding of statistics I couldn't tell if it really is, or if it is southeast biased?!"
   ]
  },
  {
   "cell_type": "code",
   "execution_count": 8,
   "metadata": {},
   "outputs": [
    {
     "output_type": "execute_result",
     "data": {
      "text/plain": [
       "0.5052316890881914"
      ]
     },
     "metadata": {},
     "execution_count": 8
    }
   ],
   "source": [
    "p.average(\"sex\")"
   ]
  }
 ],
 "metadata": {
  "kernelspec": {
   "display_name": "Python 3",
   "language": "python",
   "name": "python3"
  },
  "language_info": {
   "codemirror_mode": {
    "name": "ipython",
    "version": 3
   },
   "file_extension": ".py",
   "mimetype": "text/x-python",
   "name": "python",
   "nbconvert_exporter": "python",
   "pygments_lexer": "ipython3",
   "version": "3.7.6-final"
  }
 },
 "nbformat": 4,
 "nbformat_minor": 4
}