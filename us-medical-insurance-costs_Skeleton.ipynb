{
 "cells": [
  {
   "cell_type": "markdown",
   "metadata": {},
   "source": [
    "# U.S. Medical Insurance Costs\n",
    "\n",
    "Here, as a start, is a low-fi version with csv as the only library used. \n",
    "1. Working in parallel to show how the go-to data modules (pandas, numpy, matplotlib, seaborn and what else is there?) can not only save us time and the need to write plenty of code, but also expand our possibilities by showing the same things in greater depth or beautifully visualized, seems like a fair and desirable goal.\n",
    "2. Though the recommendations Codecademy is giving for this project seem like an interesting challenge in terms of learning Python, one could wonder if there might be more original questions to be answered?\n",
    "(see Kanban board: Scoping Your Project). "
   ]
  },
  {
   "cell_type": "code",
   "execution_count": 164,
   "metadata": {},
   "outputs": [],
   "source": [
    "# first things first\n",
    "import csv"
   ]
  },
  {
   "cell_type": "markdown",
   "metadata": {},
   "source": [
    "Following the solution that is enclosed in this repository, here is a function that creates a list from a given attribute, \n",
    "pretty much as in the solution, but using list comprehensions instead of empty lists, for-loops and the append function."
   ]
  },
  {
   "cell_type": "code",
   "execution_count": 165,
   "metadata": {},
   "outputs": [],
   "source": [
    "def create_list_on_attribute(attribute):\n",
    "    \"\"\"from having read the file, we know there are seven specific rows:\n",
    "    age, sex, bmi, children, smoker, region, charges\n",
    "    we can use any of these as an argument (input: string)\n",
    "    \"\"\"\n",
    "    with open(\"insurance.csv\") as insur_csv:\n",
    "        \"we import our dataset as a variable (dictionary with attributes as keys)\"\n",
    "        insur_data = csv.DictReader(insur_csv)\n",
    "        \"and get a list of the attribute we chose\"\n",
    "        return [i[attribute] for i in insur_data]"
   ]
  },
  {
   "cell_type": "code",
   "execution_count": 166,
   "metadata": {},
   "outputs": [],
   "source": [
    "# uncomment the print statement and add an attribute in between the quotes to try:\n",
    "# print(create_list_on_attribute(\" \"))"
   ]
  },
  {
   "cell_type": "markdown",
   "metadata": {},
   "source": [
    "The next super sweet thing that can be seen in the solution is a class for patient info.\n",
    "I don't know about you guys, but I'm still keen on getting a better grip on Class(es)! But I want to try this without having to create all those lists beforehand."
   ]
  },
  {
   "cell_type": "code",
   "execution_count": 167,
   "metadata": {},
   "outputs": [],
   "source": [
    "class PatientsInfo:\n",
    "    \"here I'll build the class, starting with the init method\"\n",
    "    def __init__(self):\n",
    "        \"why would we use the attributes as arguments here, as we'll end up with only of instance of this class anyway?\"\n",
    "        self.age = create_list_on_attribute(\"age\")\n",
    "        self.sex = create_list_on_attribute(\"sex\")\n",
    "        self.children = create_list_on_attribute(\"children\")\n",
    "        self.smoker = create_list_on_attribute(\"smoker\")\n",
    "        self.region = create_list_on_attribute(\"region\")\n",
    "        self.charges = create_list_on_attribute(\"charges\")\n",
    "        \n",
    "    def average_age(self):\n",
    "        \"here I use a generator expression, as the initial list was made of strings, not integers\"\n",
    "        return sum(int(i) for i in self.age) / len(self.age)\n",
    "    \n",
    "    def average_age_of_parents(self):\n",
    "        \"\"\"\"while it was super easy to get an average age, the average age for parents consists of two different lists?!\n",
    "        Let's try tuples and the zip command. the if-clause makes the childless disappear\"\"\"\n",
    "        ages_and_children = [(age, child) for age, child in zip(self.age, self.children) if child != \"0\"]\n",
    "        \"all that is left to do is to divide the sum of all tuple-first elements by the length of the list \"\n",
    "        return sum(int(i[0]) for i in ages_and_children) / len(ages_and_children)\n",
    "    \n",
    "    def most_common_regions(self):\n",
    "        \"\"\"Ok, to add something of my own, I would like to know what regions exist and how often we encounter them\"\"\"\n",
    "        regions_as_dict = {} # this time i also start with an empty variable, but is it really necessary?\n",
    "        for i in self.region:\n",
    "            if i not in regions_as_dict:\n",
    "                regions_as_dict[i] = 1\n",
    "            else:\n",
    "                regions_as_dict[i] += 1\n",
    "        return regions_as_dict"
   ]
  },
  {
   "cell_type": "markdown",
   "metadata": {},
   "source": [
    "Let's actually try the ages:"
   ]
  },
  {
   "cell_type": "code",
   "execution_count": 168,
   "metadata": {},
   "outputs": [
    {
     "name": "stdout",
     "output_type": "stream",
     "text": [
      "Average age of all the patients: 39.20702541106129\n",
      "Average age of all the PARENTS: 39.78010471204188\n",
      "How come the difference is only 0.57 years ??!? ಠ_ಠ\n"
     ]
    }
   ],
   "source": [
    "patients = PatientsInfo()\n",
    "# the average age of the patients was 39.21 years in the codecademy solution\n",
    "print(\"Average age of all the patients:\", patients.average_age())\n",
    "# the average age of the parents was 39.78 years in Murad's solution\n",
    "print(\"Average age of all the PARENTS:\", patients.average_age_of_parents())\n",
    "print(f\"How come the difference is only {round(abs(patients.average_age() - patients.average_age_of_parents()), 2)} years ??!? ಠ_ಠ\")"
   ]
  },
  {
   "cell_type": "markdown",
   "metadata": {},
   "source": [
    "Let's try the regions as well:"
   ]
  },
  {
   "cell_type": "code",
   "execution_count": 170,
   "metadata": {},
   "outputs": [
    {
     "name": "stdout",
     "output_type": "stream",
     "text": [
      "{'southwest': 325, 'southeast': 364, 'northwest': 325, 'northeast': 324}\n",
      "None\n"
     ]
    }
   ],
   "source": [
    "print(patients.most_common_regions())"
   ]
  },
  {
   "cell_type": "markdown",
   "metadata": {},
   "source": [
    "Now this seems surprisingly balanced to me! Though without any understanding of statistics I couldn't tell if it really is, or if it is southeast biased?!"
   ]
  }
 ],
 "metadata": {
  "kernelspec": {
   "display_name": "Python 3",
   "language": "python",
   "name": "python3"
  },
  "language_info": {
   "codemirror_mode": {
    "name": "ipython",
    "version": 3
   },
   "file_extension": ".py",
   "mimetype": "text/x-python",
   "name": "python",
   "nbconvert_exporter": "python",
   "pygments_lexer": "ipython3",
   "version": "3.8.8"
  }
 },
 "nbformat": 4,
 "nbformat_minor": 4
}
